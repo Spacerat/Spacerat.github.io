{
 "cells": [
  {
   "cell_type": "code",
   "execution_count": 108,
   "metadata": {},
   "outputs": [],
   "source": [
    "from sympy.stats import P, density, E, Normal, cdf, Beta\n",
    "from sympy import Eq, simplify, integrate, solveset, solve, Eq, N\n",
    "from sympy import init_printing\n",
    "from sympy.abc import x, y\n",
    "\n",
    "init_printing(use_latex='mathjax')"
   ]
  },
  {
   "cell_type": "code",
   "execution_count": 79,
   "metadata": {},
   "outputs": [
    {
     "data": {
      "text/latex": [
       "$\\displaystyle \\left\\{4 y\\right\\}$"
      ],
      "text/plain": [
       "{4⋅y}"
      ]
     },
     "execution_count": 79,
     "metadata": {},
     "output_type": "execute_result"
    }
   ],
   "source": [
    "solveset(Eq(x, 4 * y), x)"
   ]
  },
  {
   "cell_type": "code",
   "execution_count": 152,
   "metadata": {},
   "outputs": [],
   "source": [
    "Z1 = Normal('Z1', 0, 1)\n",
    "Z2 = Normal('Z2', 1, 2)"
   ]
  },
  {
   "cell_type": "code",
   "execution_count": 153,
   "metadata": {},
   "outputs": [
    {
     "data": {
      "text/latex": [
       "$\\displaystyle 2 Z_{1} + Z_{2}$"
      ],
      "text/plain": [
       "2⋅Z₁ + Z₂"
      ]
     },
     "execution_count": 153,
     "metadata": {},
     "output_type": "execute_result"
    }
   ],
   "source": [
    "dist = 2 * Z1 + Z2\n",
    "dist"
   ]
  },
  {
   "cell_type": "code",
   "execution_count": 154,
   "metadata": {},
   "outputs": [
    {
     "data": {
      "text/latex": [
       "$\\displaystyle \\left( z \\mapsto - \\frac{\\left(\\frac{\\pi \\left(1 - z\\right) e^{\\frac{\\left(1 - z\\right)^{2}}{16}} \\operatorname{erf}{\\left(\\frac{z}{4} - \\frac{1}{4} \\right)}}{4} - \\frac{\\pi \\left(1 - z\\right) e^{\\frac{\\left(1 - z\\right)^{2}}{16}}}{4}\\right) e^{- \\frac{z^{2}}{8} + \\frac{z}{4} - \\frac{1}{8}}}{2 \\pi^{\\frac{3}{2}} \\left(1 - z\\right)} + \\frac{\\left(\\frac{\\pi \\left(1 - z\\right) e^{\\frac{\\left(1 - z\\right)^{2}}{16}} \\operatorname{erf}{\\left(\\frac{z}{4} - \\frac{1}{4} \\right)}}{4} + \\frac{\\pi \\left(1 - z\\right) e^{\\frac{\\left(1 - z\\right)^{2}}{16}}}{4}\\right) e^{- \\frac{z^{2}}{8} + \\frac{z}{4} - \\frac{1}{8}}}{2 \\pi^{\\frac{3}{2}} \\left(1 - z\\right)} \\right)$"
      ],
      "text/plain": [
       "      ⎛                  2                                 ⎞                 ⎛\n",
       "      ⎜           (1 - z)                                 2⎟                 ⎜\n",
       "      ⎜           ────────                         (1 - z) ⎟     2           ⎜\n",
       "      ⎜              16       ⎛z   1⎞              ────────⎟    z    z   1   ⎜\n",
       "      ⎜π⋅(1 - z)⋅ℯ        ⋅erf⎜─ - ─⎟                 16   ⎟  - ── + ─ - ─   ⎜\n",
       "      ⎜                       ⎝4   4⎠   π⋅(1 - z)⋅ℯ        ⎟    8    4   8   ⎜\n",
       "      ⎜────────────────────────────── - ───────────────────⎟⋅ℯ               ⎜\n",
       "      ⎝              4                           4         ⎠                 ⎝\n",
       "z ↦ - ──────────────────────────────────────────────────────────────────── + ─\n",
       "                                    3/2                                       \n",
       "                                 2⋅π   ⋅(1 - z)                               \n",
       "\n",
       "                  2                                 ⎞              \n",
       "           (1 - z)                                 2⎟              \n",
       "           ────────                         (1 - z) ⎟     2        \n",
       "              16       ⎛z   1⎞              ────────⎟    z    z   1\n",
       "π⋅(1 - z)⋅ℯ        ⋅erf⎜─ - ─⎟                 16   ⎟  - ── + ─ - ─\n",
       "                       ⎝4   4⎠   π⋅(1 - z)⋅ℯ        ⎟    8    4   8\n",
       "────────────────────────────── + ───────────────────⎟⋅ℯ            \n",
       "              4                           4         ⎠              \n",
       "───────────────────────────────────────────────────────────────────\n",
       "                             3/2                                   \n",
       "                          2⋅π   ⋅(1 - z)                           "
      ]
     },
     "execution_count": 154,
     "metadata": {},
     "output_type": "execute_result"
    }
   ],
   "source": [
    "dist_pdf = density(dist)\n",
    "dist_pdf"
   ]
  },
  {
   "cell_type": "code",
   "execution_count": null,
   "metadata": {},
   "outputs": [],
   "source": [
    "dist_cdf = integrate(dist_pdf(x))\n",
    "dist_cdf"
   ]
  },
  {
   "cell_type": "code",
   "execution_count": null,
   "metadata": {},
   "outputs": [],
   "source": [
    "eqn = Eq(y, dist_cdf)\n",
    "eqn"
   ]
  },
  {
   "cell_type": "code",
   "execution_count": 157,
   "metadata": {},
   "outputs": [
    {
     "data": {
      "text/latex": [
       "$\\displaystyle y = - \\frac{\\left(\\frac{\\pi \\left(1 - x\\right) e^{\\frac{\\left(1 - x\\right)^{2}}{16}} \\operatorname{erf}{\\left(\\frac{x}{4} - \\frac{1}{4} \\right)}}{4} - \\frac{\\pi \\left(1 - x\\right) e^{\\frac{\\left(1 - x\\right)^{2}}{16}}}{4}\\right) e^{- \\frac{x^{2}}{8} + \\frac{x}{4} - \\frac{1}{8}}}{2 \\pi^{\\frac{3}{2}} \\left(1 - x\\right)} + \\frac{\\left(\\frac{\\pi \\left(1 - x\\right) e^{\\frac{\\left(1 - x\\right)^{2}}{16}} \\operatorname{erf}{\\left(\\frac{x}{4} - \\frac{1}{4} \\right)}}{4} + \\frac{\\pi \\left(1 - x\\right) e^{\\frac{\\left(1 - x\\right)^{2}}{16}}}{4}\\right) e^{- \\frac{x^{2}}{8} + \\frac{x}{4} - \\frac{1}{8}}}{2 \\pi^{\\frac{3}{2}} \\left(1 - x\\right)}$"
      ],
      "text/plain": [
       "      ⎛                  2                                 ⎞                 ⎛\n",
       "      ⎜           (1 - x)                                 2⎟                 ⎜\n",
       "      ⎜           ────────                         (1 - x) ⎟     2           ⎜\n",
       "      ⎜              16       ⎛x   1⎞              ────────⎟    x    x   1   ⎜\n",
       "      ⎜π⋅(1 - x)⋅ℯ        ⋅erf⎜─ - ─⎟                 16   ⎟  - ── + ─ - ─   ⎜\n",
       "      ⎜                       ⎝4   4⎠   π⋅(1 - x)⋅ℯ        ⎟    8    4   8   ⎜\n",
       "      ⎜────────────────────────────── - ───────────────────⎟⋅ℯ               ⎜\n",
       "      ⎝              4                           4         ⎠                 ⎝\n",
       "y = - ──────────────────────────────────────────────────────────────────── + ─\n",
       "                                    3/2                                       \n",
       "                                 2⋅π   ⋅(1 - x)                               \n",
       "\n",
       "                  2                                 ⎞              \n",
       "           (1 - x)                                 2⎟              \n",
       "           ────────                         (1 - x) ⎟     2        \n",
       "              16       ⎛x   1⎞              ────────⎟    x    x   1\n",
       "π⋅(1 - x)⋅ℯ        ⋅erf⎜─ - ─⎟                 16   ⎟  - ── + ─ - ─\n",
       "                       ⎝4   4⎠   π⋅(1 - x)⋅ℯ        ⎟    8    4   8\n",
       "────────────────────────────── + ───────────────────⎟⋅ℯ            \n",
       "              4                           4         ⎠              \n",
       "───────────────────────────────────────────────────────────────────\n",
       "                             3/2                                   \n",
       "                          2⋅π   ⋅(1 - x)                           "
      ]
     },
     "execution_count": 157,
     "metadata": {},
     "output_type": "execute_result"
    }
   ],
   "source": [
    "eqn = Eq(y, dist_pdf(x))\n",
    "eqn"
   ]
  },
  {
   "cell_type": "code",
   "execution_count": null,
   "metadata": {},
   "outputs": [],
   "source": [
    "solved = "
   ]
  },
  {
   "cell_type": "code",
   "execution_count": 143,
   "metadata": {},
   "outputs": [
    {
     "data": {
      "text/latex": [
       "$\\displaystyle y = \\frac{2 \\sqrt{\\pi} \\operatorname{erf}{\\left(\\frac{x}{2} \\right)} + \\frac{\\sqrt{\\pi} \\operatorname{erfc}^{2}{\\left(\\frac{x}{2} \\right)}}{2}}{4 \\sqrt{\\pi}} - \\frac{\\operatorname{erfc}^{2}{\\left(\\frac{x}{2} \\right)}}{8}$"
      ],
      "text/plain": [
       "                         2⎛x⎞           \n",
       "                  √π⋅erfc ⎜─⎟           \n",
       "            ⎛x⎞           ⎝2⎠       2⎛x⎞\n",
       "    2⋅√π⋅erf⎜─⎟ + ───────────   erfc ⎜─⎟\n",
       "            ⎝2⎠        2             ⎝2⎠\n",
       "y = ───────────────────────── - ────────\n",
       "               4⋅√π                8    "
      ]
     },
     "execution_count": 143,
     "metadata": {},
     "output_type": "execute_result"
    }
   ],
   "source": [
    "eqn = Eq(y, integrate(density(Z1 + Z2)(x)))\n",
    "eqn"
   ]
  },
  {
   "cell_type": "code",
   "execution_count": 146,
   "metadata": {},
   "outputs": [
    {
     "data": {
      "text/latex": [
       "$\\displaystyle \\left\\{2 \\operatorname{erfinv}{\\left(2 y \\right)}\\right\\}$"
      ],
      "text/plain": [
       "{2⋅erfinv(2⋅y)}"
      ]
     },
     "execution_count": 146,
     "metadata": {},
     "output_type": "execute_result"
    }
   ],
   "source": [
    "solveset(eqn, x)"
   ]
  },
  {
   "cell_type": "code",
   "execution_count": 117,
   "metadata": {},
   "outputs": [
    {
     "data": {
      "text/latex": [
       "$\\displaystyle 0.5$"
      ],
      "text/plain": [
       "0.500000000000000"
      ]
     },
     "execution_count": 117,
     "metadata": {},
     "output_type": "execute_result"
    }
   ],
   "source": [
    "N(I.subs(x, 100))"
   ]
  },
  {
   "cell_type": "code",
   "execution_count": 86,
   "metadata": {},
   "outputs": [
    {
     "data": {
      "text/latex": [
       "$\\displaystyle \\emptyset$"
      ],
      "text/plain": [
       "∅"
      ]
     },
     "execution_count": 86,
     "metadata": {},
     "output_type": "execute_result"
    }
   ],
   "source": [
    "solveset(Eq(x, cdf(Z1 + y + Z2)(y)), y)"
   ]
  },
  {
   "cell_type": "code",
   "execution_count": 56,
   "metadata": {},
   "outputs": [],
   "source": [
    "foo = x - 10"
   ]
  },
  {
   "cell_type": "code",
   "execution_count": 72,
   "metadata": {},
   "outputs": [
    {
     "data": {
      "text/latex": [
       "$\\displaystyle \\frac{x^{4}}{4 \\operatorname{B}\\left(2, 3\\right)} - \\frac{2 x^{3}}{3 \\operatorname{B}\\left(2, 3\\right)} + \\frac{x^{2}}{2 \\operatorname{B}\\left(2, 3\\right)}$"
      ],
      "text/plain": [
       "     4            3          2   \n",
       "    x          2⋅x          x    \n",
       "───────── - ───────── + ─────────\n",
       "4⋅Β(2, 3)   3⋅Β(2, 3)   2⋅Β(2, 3)"
      ]
     },
     "execution_count": 72,
     "metadata": {},
     "output_type": "execute_result"
    }
   ],
   "source": [
    "integrate(density(Beta(\"B\", 2, 3))(x))"
   ]
  },
  {
   "cell_type": "code",
   "execution_count": 57,
   "metadata": {},
   "outputs": [
    {
     "data": {
      "text/latex": [
       "$\\displaystyle \\left\\{10\\right\\}$"
      ],
      "text/plain": [
       "{10}"
      ]
     },
     "execution_count": 57,
     "metadata": {},
     "output_type": "execute_result"
    }
   ],
   "source": [
    "solveset(foo, x)"
   ]
  },
  {
   "cell_type": "code",
   "execution_count": 60,
   "metadata": {},
   "outputs": [
    {
     "data": {
      "text/latex": [
       "$\\displaystyle \\frac{\\operatorname{erf}{\\left(\\frac{\\sqrt{2} x}{2} \\right)}}{2} + \\frac{1}{2}$"
      ],
      "text/plain": [
       "   ⎛√2⋅x⎞    \n",
       "erf⎜────⎟    \n",
       "   ⎝ 2  ⎠   1\n",
       "───────── + ─\n",
       "    2       2"
      ]
     },
     "execution_count": 60,
     "metadata": {},
     "output_type": "execute_result"
    }
   ],
   "source": [
    "cdf(Z1)(x)"
   ]
  },
  {
   "cell_type": "code",
   "execution_count": 43,
   "metadata": {},
   "outputs": [
    {
     "data": {
      "text/latex": [
       "$\\displaystyle \\left[ \\right]$"
      ],
      "text/plain": [
       "[]"
      ]
     },
     "execution_count": 43,
     "metadata": {},
     "output_type": "execute_result"
    }
   ],
   "source": [
    "solve(eqn)"
   ]
  }
 ],
 "metadata": {
  "kernelspec": {
   "display_name": "Python 3",
   "language": "python",
   "name": "python3"
  },
  "language_info": {
   "codemirror_mode": {
    "name": "ipython",
    "version": 3
   },
   "file_extension": ".py",
   "mimetype": "text/x-python",
   "name": "python",
   "nbconvert_exporter": "python",
   "pygments_lexer": "ipython3",
   "version": "3.8.0"
  }
 },
 "nbformat": 4,
 "nbformat_minor": 4
}
